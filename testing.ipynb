{
 "cells": [
  {
   "cell_type": "code",
   "execution_count": 6,
   "metadata": {},
   "outputs": [],
   "source": [
    "from typing import List\n",
    "from models.game_state import GameState\n",
    "from models.game_config import GameConfig, BaseLevel, PathConfig\n",
    "from models.position import Position\n",
    "from models.player_action import PlayerAction\n",
    "from models.base import Base\n",
    "from logic.strategy import get_base_distance\n",
    "# import numpy as np\n",
    "import math\n",
    "import pandas as pd"
   ]
  },
  {
   "cell_type": "code",
   "execution_count": 13,
   "metadata": {},
   "outputs": [],
   "source": [
    "base_levels = [\n",
    "    BaseLevel(max_population=20,\n",
    "        upgrade_cost=10,\n",
    "        spawn_rate=1\n",
    "    ),\n",
    "    BaseLevel(\n",
    "        max_population=40,\n",
    "        upgrade_cost=20,\n",
    "        spawn_rate=2\n",
    "    ),\n",
    "    BaseLevel(\n",
    "        max_population=80,\n",
    "        upgrade_cost=30,\n",
    "        spawn_rate=3\n",
    "    )\n",
    "]\n",
    "\n",
    "game_config = GameConfig(\n",
    "    base_levels=base_levels,\n",
    "    paths=PathConfig(\n",
    "        grace_period=10,\n",
    "        death_rate=1\n",
    "    )\n",
    ")"
   ]
  },
  {
   "cell_type": "code",
   "execution_count": 4,
   "metadata": {},
   "outputs": [],
   "source": [
    "def get_enemy_values(otherBases: list[Base], config: GameConfig):\n",
    "    data = {}\n",
    "    enemyUid = []\n",
    "    enemyGrowthRate = []\n",
    "    enemyMaxPopulation = []\n",
    "    enemyPopulation = []\n",
    "\n",
    "    for targetBase in otherBases:\n",
    "        enemyUid.append(targetBase.uid)\n",
    "        enemyGrowthRate.append(config.base_levels[targetBase.level].spawn_rate)\n",
    "        enemyMaxPopulation.append(config.base_levels[targetBase.level].max_population)\n",
    "        enemyPopulation.append(targetBase.population)\n",
    "\n",
    "    data[\"index\"] = enemyUid\n",
    "    data[\"growth_rate\"] = enemyGrowthRate\n",
    "    data[\"max_population\"] = enemyMaxPopulation\n",
    "    data[\"population\"] = enemyPopulation\n",
    "\n",
    "    return data"
   ]
  },
  {
   "cell_type": "code",
   "execution_count": 7,
   "metadata": {},
   "outputs": [],
   "source": [
    "def get_enemy_distance(data: dict, otherBases: list[Base], ourBases: list[Base]) -> dict:\n",
    "    for ourBase in ourBases:\n",
    "        enemydist = []\n",
    "        for targetBase in otherBases:\n",
    "            \n",
    "            #enemydist[targetBase.uid] = (get_base_distance(ourBase,targetBase) - config.paths.grace_period)\n",
    "            enemydist.append(get_base_distance(ourBase,targetBase))\n",
    "        data[ourBase.uid] = enemydist\n",
    "    return data"
   ]
  },
  {
   "cell_type": "code",
   "execution_count": 9,
   "metadata": {},
   "outputs": [],
   "source": [
    "def generate_base_costs(data: dict):\n",
    "    allBases = pd.DataFrame(data)\n",
    "    allBases = allBases.set_index([\"index\", \"growth_rate\", \"max_population\", \"population\"])\n",
    "    return allBases"
   ]
  },
  {
   "cell_type": "code",
   "execution_count": 11,
   "metadata": {},
   "outputs": [],
   "source": [
    "# add death_rate for euclidean distance to enemy\n",
    "def add_death_rate(allBases_distanceCosts: pd.DataFrame, config: GameConfig):\n",
    "    return ((allBases_distanceCosts.loc[:] - config.paths.grace_period).clip(lower=0) * config.paths.death_rate)"
   ]
  },
  {
   "cell_type": "code",
   "execution_count": 20,
   "metadata": {},
   "outputs": [
    {
     "data": {
      "text/html": [
       "<div>\n",
       "<style scoped>\n",
       "    .dataframe tbody tr th:only-of-type {\n",
       "        vertical-align: middle;\n",
       "    }\n",
       "\n",
       "    .dataframe tbody tr th {\n",
       "        vertical-align: top;\n",
       "    }\n",
       "\n",
       "    .dataframe thead th {\n",
       "        text-align: right;\n",
       "    }\n",
       "</style>\n",
       "<table border=\"1\" class=\"dataframe\">\n",
       "  <thead>\n",
       "    <tr style=\"text-align: right;\">\n",
       "      <th></th>\n",
       "      <th></th>\n",
       "      <th></th>\n",
       "      <th></th>\n",
       "      <th>0</th>\n",
       "      <th>1</th>\n",
       "    </tr>\n",
       "    <tr>\n",
       "      <th>index</th>\n",
       "      <th>growth_rate</th>\n",
       "      <th>max_population</th>\n",
       "      <th>population</th>\n",
       "      <th></th>\n",
       "      <th></th>\n",
       "    </tr>\n",
       "  </thead>\n",
       "  <tbody>\n",
       "    <tr>\n",
       "      <th>2</th>\n",
       "      <th>1</th>\n",
       "      <th>20</th>\n",
       "      <th>100</th>\n",
       "      <td>160</td>\n",
       "      <td>130</td>\n",
       "    </tr>\n",
       "    <tr>\n",
       "      <th>3</th>\n",
       "      <th>1</th>\n",
       "      <th>20</th>\n",
       "      <th>100</th>\n",
       "      <td>240</td>\n",
       "      <td>210</td>\n",
       "    </tr>\n",
       "  </tbody>\n",
       "</table>\n",
       "</div>"
      ],
      "text/plain": [
       "                                               0    1\n",
       "index growth_rate max_population population          \n",
       "2     1           20             100         160  130\n",
       "3     1           20             100         240  210"
      ]
     },
     "execution_count": 20,
     "metadata": {},
     "output_type": "execute_result"
    }
   ],
   "source": [
    "our_bases = [\n",
    "    Base(uid=0, name='A', player=1, population=100, level=0, units_until_upgrade=9, position=Position(5, 0, 1)),\n",
    "    Base(uid=1, name='B', player=1, population=100, level=0, units_until_upgrade=9, position=Position(20, 0, 1))\n",
    "]\n",
    "\n",
    "other_bases = [\n",
    "    Base(uid=2, name='C', player=2, population=100, level=0, units_until_upgrade=9, position=Position(40, 0, 1)),\n",
    "    Base(uid=3, name='D', player=3, population=100, level=0, units_until_upgrade=9, position=Position(80, 0, 1))\n",
    "]\n",
    "\n",
    "data = get_enemy_values(other_bases, game_config)\n",
    "data = get_enemy_distance(data, other_bases, our_bases)\n",
    "all_bases = generate_base_costs(data)\n",
    "\n",
    "all_bases_distance_costs = all_bases.copy()\n",
    "\n",
    "all_bases_distance_costs = add_death_rate(all_bases_distance_costs, game_config)\n",
    "all_bases_distance_costs = add_gain_of_enemy(all_bases_distance_costs, all_bases)\n",
    "all_bases_distance_costs = add_population_of_enemy_at_start(all_bases_distance_costs, all_bases)\n",
    "\n",
    "\n",
    "all_bases_distance_costs"
   ]
  }
 ],
 "metadata": {
  "kernelspec": {
   "display_name": "venv",
   "language": "python",
   "name": "python3"
  },
  "language_info": {
   "codemirror_mode": {
    "name": "ipython",
    "version": 3
   },
   "file_extension": ".py",
   "mimetype": "text/x-python",
   "name": "python",
   "nbconvert_exporter": "python",
   "pygments_lexer": "ipython3",
   "version": "3.11.4"
  }
 },
 "nbformat": 4,
 "nbformat_minor": 2
}
